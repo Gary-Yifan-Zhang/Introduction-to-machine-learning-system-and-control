{
 "cells": [
  {
   "cell_type": "markdown",
   "id": "c8fd3112",
   "metadata": {},
   "source": [
    "# Lab 1: Furuta pendulum measurements and actuation\n",
    "## Background\n",
    "In this series of 3 labs we will control the Furuta pendulum pictured below to swing up its arm and balance it in the upright position.\n",
    "\n",
    "![Furuta Pendulum](img/lab1-furuta.png)\n",
    "\n",
    "Much of machine learning concerns fitting a function to data. An artificial neural network (ANN) is for example a mapping from a an input vector $u$ to an output vector $y$, and can be represented by a (complicated) ordinary function $f:u\\to y$. In an ANN, $f$ is parameterized as a matrix of weights $W$. When the network is trained, the values of weights are adjusted to obtain $f(u;W)\\approx y$ for known data $(u,y)$. A strength of ANNs is that they are very flexible, meaning that they can approximate rather arbitrary mappings. This is also the reason that cross validation is so important to detect over-fitting of data. Particularly, the flexibity of $f$ becomes problematic if the training data is not sufficiently informative. This can be resolved by gathering additional training data. Sometimes this is expensive or even impossible. It is therefore always good to use as much prior knowledge as possible when modelling.\n",
    "\n",
    "The pendulum has a scalar (single-valued) real input $u$, that somehow relates to the angular velocity of its base, $\\dot{\\varphi}$. (The dot is convenient way to denote differentiation with respect to time, for example $\\dot{x}=dx/dt$). We will shortly take a closer look at properties of this input. The pendulum also provides two measurements: the base angle $\\varphi$ and the arm angle $\\theta$. We will take a closer look at them too.\n",
    "\n",
    "Being aspiring machine learning experts, we could now train a neural network to represent the mapping from the input $u$ to the output $y=[\\varphi~\\theta]$. This raises a number of questions:\n",
    "\n",
    "1. How shall we choose the training input u, in order to cover the feature space that we are interested to model?\n",
    "\n",
    "2. What is a good way to validate the model we obtain?\n",
    "\n",
    "3. How can we use the obtained ANN to get closer to our goal of controlling the Furuta pendulum?\n",
    "\n",
    "As we will see in this and the next lab, the Furuta pendulum has properties that enable us to restrict the search for a model to a much narrower class of mapping than ANNs provide, and this will prove useful when approaching the questions above. Incorporating knowledge of such properties into machine learning models is a recent research topic, and in order to get you on board, we will here focus on getting you familiar with \"classical\" modeling and control of dynamical systems, that is a pre-requisite for such composite models.\n",
    "\n",
    "In this first lab, the focus will lie on getting familiar with the Julia programming language, and getting started with experimenting on the physical Furuta pendulum. We will write functions for measuring angles and estimating angular velocies. Finally, we will develop a very simple model for the actuating DC motor. Lab 2 will focus on modelling and simulation, and in Lab 3 we will control the pendulum in the upright position, and also implement and energy-based conrol law that swings it up from its resting position.\n",
    "\n",
    "The labs are all quite open-ended and exploratory. It is strongly encouraged that you experiment outside the boundaries of their manuals, and that you actively seek knowledge online and by interacting with the instructors.\n",
    "\n",
    "**To pass the lab fill all cells marked \"A\" with text or code, and be ready to discuss the content of the lab in a small group during the examination session.**"
   ]
  },
  {
   "cell_type": "markdown",
   "id": "60492040",
   "metadata": {},
   "source": [
    "## Getting started\n",
    "First, let us load some code packages into the Julia environment:"
   ]
  },
  {
   "cell_type": "code",
   "execution_count": 2,
   "id": "0d7abefe",
   "metadata": {},
   "outputs": [],
   "source": [
    "using FurutaPendulums, Plots, DelimitedFiles, ControlSystems"
   ]
  },
  {
   "cell_type": "markdown",
   "id": "3dff40aa",
   "metadata": {},
   "source": [
    "The FurutaPendulums package defines an interface between Julia and the physical process. To instantiate a pendulum we do "
   ]
  },
  {
   "cell_type": "code",
   "execution_count": 3,
   "id": "a570a25c",
   "metadata": {
    "scrolled": true
   },
   "outputs": [
    {
     "ename": "LoadError",
     "evalue": "could not load library \"libmoberg\"\nThe specified module could not be found. ",
     "output_type": "error",
     "traceback": [
      "could not load library \"libmoberg\"\nThe specified module could not be found. ",
      "",
      "Stacktrace:",
      " [1] Moberg",
      "   @ C:\\Users\\30416\\.julia\\packages\\MobergIO\\m7iBg\\src\\MobergIO.jl:50 [inlined]",
      " [2] FurutaPendulum()",
      "   @ FurutaPendulums .\\util.jl:567",
      " [3] top-level scope",
      "   @ In[3]:1"
     ]
    }
   ],
   "source": [
    "furuta = FurutaPendulum()"
   ]
  },
  {
   "cell_type": "markdown",
   "id": "ec419b13",
   "metadata": {},
   "source": [
    "We can now send an input command to the Furuta pendulum:"
   ]
  },
  {
   "cell_type": "code",
   "execution_count": 6,
   "id": "7567edfa",
   "metadata": {},
   "outputs": [
    {
     "ename": "LoadError",
     "evalue": "UndefVarError: `furuta` not defined",
     "output_type": "error",
     "traceback": [
      "UndefVarError: `furuta` not defined",
      "",
      "Stacktrace:",
      " [1] top-level scope",
      "   @ In[6]:2"
     ]
    }
   ],
   "source": [
    "u=2.0\n",
    "control(furuta,u)"
   ]
  },
  {
   "cell_type": "markdown",
   "id": "ca7aee4e",
   "metadata": {},
   "source": [
    "The pendulum should start spinning, and will stop after a while (5 seconds) due to a built in time-out. Without the timeout it would spin forever, or at least until it received a control command that stopped it.\n",
    "\n",
    "At some point during the labs you will likely also see the pendulum move fast, then suddenly stop. This is most likely due to a built-in energy threashold, that cuts actuation of the motor if the kinetic energy of the the moving parts gets too high. This mechanism is in place to protect you and the equipment. It should not pose a problem during normal operation."
   ]
  },
  {
   "cell_type": "markdown",
   "id": "34296099",
   "metadata": {},
   "source": [
    "Next, let us define a control signal trajectory:"
   ]
  },
  {
   "cell_type": "code",
   "execution_count": null,
   "id": "b031ed6e",
   "metadata": {},
   "outputs": [],
   "source": [
    "h=1.0 # This is the update period (often called sampling), in seconds\n",
    "last_time=periodic_wait(furuta,0.0,0.0)\n",
    "for k=1:5\n",
    "    if iseven(k) # check if k is even (偶数)\n",
    "        u=2.5\n",
    "    else\n",
    "        u=0.0\n",
    "    end\n",
    "    control(furuta,u)\n",
    "    last_time=periodic_wait(furuta,last_time,h) # Ensure that the inverted pendulum operates at regular intervals\n",
    "end"
   ]
  },
  {
   "cell_type": "markdown",
   "id": "cc3c525c",
   "metadata": {},
   "source": [
    "Let us digest the code block above. First we declare a period `h` that tells us for how many seconds at a time (the sampling period) the input `u` should be held constant. Then we declare a start time. To see the numeric value of this time, type:"
   ]
  },
  {
   "cell_type": "code",
   "execution_count": null,
   "id": "dd1d0ed6",
   "metadata": {},
   "outputs": [],
   "source": [
    "@show periodic_wait(furuta,0.0,0.0)"
   ]
  },
  {
   "cell_type": "markdown",
   "id": "f9051202",
   "metadata": {},
   "source": [
    "The large number is the number of seconds since the beginning of 1970, also known as the UNIX epoch. Subsequent calls of ```periodic_wait``` will tell the function to wait on the ```furuta``` object until ```h```seconds has passed since the time stored in ```last_time```.\n",
    "\n",
    "Then there is a ```for``` loop that runs for each integer value in the range ```k=1:5```"
   ]
  },
  {
   "cell_type": "markdown",
   "id": "70f7661b",
   "metadata": {},
   "source": [
    "Q: What happens in the body of the `for` loop? (Type your answer in the answer cell below.)"
   ]
  },
  {
   "cell_type": "markdown",
   "id": "f9124d52",
   "metadata": {},
   "source": [
    "A: \n",
    "In the for loop, if $k$ is even, assign 2.5 to $u$, and if it is odd, assign 0. \n",
    "After the assignment, use $u$ as the input signal to control the furuta pendulum. \n",
    "Delay $h$ seconds and update the last time of loop completion.\n"
   ]
  },
  {
   "cell_type": "markdown",
   "id": "48c5a47c",
   "metadata": {
    "tags": []
   },
   "source": [
    "Q: Now write and execute an experiment of 3 s duration, where the input signal is $u(t)=2.5 \\sin(3.0t)$ and the sampling period is 0.01 s."
   ]
  },
  {
   "cell_type": "code",
   "execution_count": null,
   "id": "9cec52a3",
   "metadata": {},
   "outputs": [],
   "source": [
    "#A:(Write your code in this cell)\n",
    "h=0.01 # This is the update period (often called sampling), in seconds\n",
    "last_time=periodic_wait(furuta,0.0,0.0)\n",
    "for t = 0:0.01:3\n",
    "    u = 2.5 * sin(3.0 * t)\n",
    "    control(furuta,u)\n",
    "    last_time=periodic_wait(furuta,last_time,h) # Ensure that the inverted pendulum operates at regular intervals\n",
    "end"
   ]
  },
  {
   "cell_type": "markdown",
   "id": "13b9bbbd",
   "metadata": {},
   "source": [
    "## Angle measurements\n",
    "In the experiments above, we can see that the pendulum device is moving. But to get a model, we will need some quantified measurements. The code below actuates the device and meausures the base angle $\\varphi$. Take a close look and make sure you understand what it does."
   ]
  },
  {
   "cell_type": "code",
   "execution_count": null,
   "id": "f19b80cf",
   "metadata": {},
   "outputs": [],
   "source": [
    "h=0.01 # 10 ms\n",
    "start_time=last_time=periodic_wait(furuta,0.0,0.0)\n",
    "\n",
    "φ_raws=Float64[] # Array for storing measurements\n",
    "ts=Float64[]\n",
    "\n",
    "u=2.5\n",
    "\n",
    "for k=1:round(5/h)\n",
    "    control(furuta,u)\n",
    "    last_time=periodic_wait(furuta,last_time,h) # Delay\n",
    "    φ_raw=read(furuta.base_encoder) # read φ\n",
    "    φ_raws=[φ_raws; φ_raw] # recording φ\n",
    "    ts=[ts; last_time-start_time] # recording time\n",
    "end\n",
    "control(furuta,0.0) # It stops after 5 seconds, but we might as well stop it when we are done"
   ]
  },
  {
   "cell_type": "markdown",
   "id": "d117b36c",
   "metadata": {},
   "source": [
    "The measurement of $\\varphi$ is obtained from a rotary encoder, providing a counter that increments (or decrements, depending on the direction of rotation) its value at evenly spaced angular intervals. The resolution of a rotary encoder is the number of such increments per full revolution. Let us plot the base angle as a function of time:"
   ]
  },
  {
   "cell_type": "code",
   "execution_count": null,
   "id": "f18a0699",
   "metadata": {},
   "outputs": [],
   "source": [
    "plot(ts, φ_raws)"
   ]
  },
  {
   "cell_type": "markdown",
   "id": "3f959e1d",
   "metadata": {},
   "source": [
    "Q: Can you tell from the figure how many full revolutions the base underwent during the experiment? And what approximately is the resolution of the base encoder?"
   ]
  },
  {
   "cell_type": "markdown",
   "id": "0a789537",
   "metadata": {},
   "source": [
    "A: "
   ]
  },
  {
   "cell_type": "markdown",
   "id": "b7c04b7e",
   "metadata": {},
   "source": [
    "Q: Next compute the resolution of the encoder directly from the array `φ_raws`. "
   ]
  },
  {
   "cell_type": "code",
   "execution_count": null,
   "id": "512e2cdf",
   "metadata": {},
   "outputs": [],
   "source": [
    "# A:\n",
    "# Hint: check out the functions minimum/maximum\n",
    "resolution = maximum(diff(φ_raws))"
   ]
  },
  {
   "cell_type": "markdown",
   "id": "4422c98a",
   "metadata": {},
   "source": [
    "Q: The encoder uses a number of bits to store its value. Based on the resolution above, how many bits would you assume the encoder uses?"
   ]
  },
  {
   "cell_type": "code",
   "execution_count": null,
   "id": "cd3ab699",
   "metadata": {},
   "outputs": [],
   "source": [
    "# A:\n",
    "# Hint: The 2-logaritm is called log2 in Julia\n",
    "num_bits = ceil(Int, log2(resolution))"
   ]
  },
  {
   "cell_type": "markdown",
   "id": "e069de91",
   "metadata": {},
   "source": [
    "Q: Another thing that you might already have noticed in the figure above is that the encoder does not always cycle (jump) to 0, but rather at some varying small values. Can you explain this? Hint: Try to run the encoder experiment with some different sample periods, both smaller and larger than the nominal `h=0.01` and observe how the quantization effects change."
   ]
  },
  {
   "cell_type": "markdown",
   "id": "4b4bf092",
   "metadata": {},
   "source": [
    "A: The encoder's behavior of not cycling back to exactly 0 and having small variations is likely due to quantization effects. The encoder has a finite resolution, and as the pendulum moves continuously, the encoder cannot represent every small change in angle. Instead, it quantizes the angle into discrete values, causing these small variations."
   ]
  },
  {
   "cell_type": "markdown",
   "id": "9a707f5a",
   "metadata": {},
   "source": [
    "One conclusion from the recent experiment should be that as long as the sampling is fast and the encoder resolution is high, it is fair to approximate the encoder signal as being real rather than integer-valued. Ensuring these conditions, we can then obtain an angle in radians through dividing `φ_raws` by the resolution and multiplying by $2\\pi$. This is particularly useful since different hardware versions of the pendulums use encoders of different resolutions. To access angles in radians, we can use:"
   ]
  },
  {
   "cell_type": "code",
   "execution_count": null,
   "id": "60de5ac0",
   "metadata": {},
   "outputs": [],
   "source": [
    "@show read(furuta.base_angle); # Here we use @show to get 2 printouts from the same code cell\n",
    "@show read(furuta.arm_angle);"
   ]
  },
  {
   "cell_type": "markdown",
   "id": "47b22303",
   "metadata": {},
   "source": [
    "Re-run the base spinning experiment using the angle instead, `read(furuta.base_angle)`, and verify that it behaves as you would expect it to."
   ]
  },
  {
   "cell_type": "markdown",
   "id": "1d3f7bf5",
   "metadata": {},
   "source": [
    "Q: Someone argues that the relation between the control signal $u$ and the measurement signal $y=[\\varphi~\\theta]^\\top$ is static, rather than dynamic. Explain the difference and plot the results of an experiment that you can use to show that the relation is in fact dynamic."
   ]
  },
  {
   "cell_type": "markdown",
   "id": "5a0634f3",
   "metadata": {},
   "source": [
    "A: In a static relationship between 𝑢 and 𝑦, the output 𝑦 is solely determined by the current value of 𝑢 and does not depend on the history of 𝑢. In a dynamic relationship, the output 𝑦 depends not only on the current value of 𝑢 but also on past values, indicating some form of memory or inertia in the system.\n",
    "To demonstrate that the relationship is dynamic, change 𝑢 suddenly, and the response of 𝑦 does not immediately follow 𝑢."
   ]
  },
  {
   "cell_type": "code",
   "execution_count": null,
   "id": "c1511fbe",
   "metadata": {},
   "outputs": [],
   "source": [
    "# A: (experiment and plot)\n",
    "h=0.01\n",
    "u = 2.5  # Initial control signal\n",
    "y_values = Float64[]  # Array for storing measurement values\n",
    "u_values = Float64[]\n",
    "# Perform the experiment with a step change in u\n",
    "for k = 1:round(5 / h)\n",
    "    if k == round(2.5 / h)  # Apply a step change in u at t = 2.5 seconds\n",
    "        u = 0.0\n",
    "    end\n",
    "    control(furuta, u)\n",
    "    last_time = periodic_wait(furuta, last_time, h)\n",
    "    φ_raw = read(furuta.base_encoder)\n",
    "    y_values = [y_values; φ_raw / resolution * 2π]  # Convert φ_raw to radians\n",
    "    u_values = [u_values; u]  # recording x \n",
    "    ts=[ts; last_time-start_time]\n",
    "end\n",
    "\n",
    "plot(ts, y_values, label=\"𝜑(t)\", xlabel=\"Time (t)\", ylabel=\"Base Angle (𝜑)\", title=\"Dynamic Response\")\n",
    "plot!(ts, u_values, label=\"u(t)\", linestyle=:dash)  "
   ]
  },
  {
   "cell_type": "markdown",
   "id": "58e9e36f",
   "metadata": {},
   "source": [
    "## Angular velocity estimates\n",
    "The fact that $y$ and $u$ relate dynamically means that it is not sufficient to know $u(t)$ for times $t\\geq 0$ to uniquely determine $y$, and it is likely some variant of this that you have used in your answer above.\n",
    "\n",
    "However, we will see in lab 2 that the dynamics can be expressed on state space form as\n",
    "$$\n",
    "\\begin{align}\n",
    "\\dot{x} &= f(x,u),\\\\\n",
    "y &= g(x),\n",
    "\\end{align}\n",
    "$$\n",
    "where $x$ is a vector representing the (internal) state of the system.\n",
    "\n",
    "Certainly, the evolution of $y(t)$ will differ depending on the vales of $\\varphi(0)$ and $\\theta(0)$. But these two elements are not alone sufficient to capture the state of the pendulum. For instance, the evolution of the base angle $\\varphi$ with $u=0$ will differ depending on if the experiment starts with the base in stationarity ($\\dot{\\varphi}=0$) or in rotation ($\\dot{\\varphi}\\neq 0$). So at least we need to add $\\dot{\\varphi}$ and $\\dot{\\theta}$ as elements to our state vector:\n",
    "\n",
    "$$\n",
    "x=\n",
    "\\begin{bmatrix}\n",
    "\\varphi\\\\\n",
    "\\dot{\\varphi}\\\\\n",
    "\\theta\\\\\n",
    "\\dot{\\theta}\n",
    "\\end{bmatrix}\n",
    "$$\n",
    "\n",
    "Later, we will see that these four variables are not only necessary, but also sufficient for describing the basic dynamics of the pendulum."
   ]
  },
  {
   "cell_type": "markdown",
   "id": "a92d05a7",
   "metadata": {},
   "source": [
    "But the encoders only give us $\\varphi$ and $\\theta$. How can we measure their time derivatives? The answer is: we cannot. \n",
    "There are sensors for measuring angles or angular accelerations, but none for *directly* measuring (angular) velocity. \n",
    "Angular velocities instead need to be computed as estimates based on measurements from one of the existing sensors. In our case, we can use the angle measurements as a basis for estimating angular velocitites."
   ]
  },
  {
   "cell_type": "markdown",
   "id": "7ab9332a",
   "metadata": {},
   "source": [
    "The definition of the derivative inspires a simple way to estimate $\\dot{\\varphi}$:\n",
    "\n",
    "$$\n",
    "\\dot{\\varphi}(t)=\\frac{d\\varphi(t)}{dt}=\\lim_{h\\to 0}\\frac{\\varphi(t)-\\varphi(t-h)}{h}.\n",
    "$$\n",
    "\n",
    "Instead of taking the limit $h\\to 0$ we use a finite but small value. In our case the smallest possible value is the time between two consecutive samples, that we have conveniently already denoted by `h`."
   ]
  },
  {
   "cell_type": "markdown",
   "id": "a4a726c8",
   "metadata": {},
   "source": [
    "Q: Write code that records $\\varphi$, $\\theta$ and the corresponding sampling times into vectors. For this you can use `read(furuta.base_angle)` and `read(furuta.arm_angle)`, as we have already done . Then compute and plot finite-difference estimates $\\dot{\\varphi}$ and $\\dot{\\theta}$ from the recorded values. Be careful to handle the discontinuety that occurs once per full revolution of $\\varphi$ and $\\theta$, respectively."
   ]
  },
  {
   "cell_type": "code",
   "execution_count": null,
   "id": "1639f6f1",
   "metadata": {},
   "outputs": [],
   "source": [
    "#A:\n",
    "using Plots\n",
    "\n",
    "# Constants\n",
    "h = 0.01  # Sampling time\n",
    "\n",
    "# Initialize variables\n",
    "prev_φ = read(furuta.base_angle)\n",
    "prev_θ = read(furuta.arm_angle)\n",
    "prev_time = 0.0\n",
    "\n",
    "# Initialize arrays for recording\n",
    "φ_values = Float64[]\n",
    "θ_values = Float64[]\n",
    "φdot_values = Float64[]\n",
    "θdot_values = Float64[]\n",
    "time_values = Float64[]\n",
    "\n",
    "# Function to compute finite-difference estimates of derivatives\n",
    "function compute_derivatives(φ, θ, prev_φ, prev_θ, h)\n",
    "    φdot = (φ - prev_φ) / h\n",
    "    θdot = (θ - prev_θ) / h\n",
    "    return φdot, θdot\n",
    "end\n",
    "\n",
    "# Loop to record and compute derivatives\n",
    "for k = 1:round(5 / h)\n",
    "    φ = read(furuta.base_angle)\n",
    "    θ = read(furuta.arm_angle)\n",
    "    time = periodic_wait(furuta, prev_time, h)\n",
    "    \n",
    "    # Handle the discontinuity in angles\n",
    "    if abs(φ - prev_φ) > π\n",
    "        φ -= 2π * sign(φ - prev_φ)\n",
    "    end\n",
    "    if abs(θ - prev_θ) > π\n",
    "        θ -= 2π * sign(θ - prev_θ)\n",
    "    end\n",
    "    \n",
    "    φdot, θdot = compute_derivatives(φ, θ, prev_φ, prev_θ, h)\n",
    "    \n",
    "    push!(φ_values, φ)\n",
    "    push!(θ_values, θ)\n",
    "    push!(φdot_values, φdot)\n",
    "    push!(θdot_values, θdot)\n",
    "    push!(time_values, time)\n",
    "    \n",
    "    prev_φ = φ\n",
    "    prev_θ = θ\n",
    "    prev_time = time\n",
    "end\n",
    "\n",
    "# Plotting\n",
    "plot(time_values, φ_values, label=\"𝜑(t)\", xlabel=\"Time (t)\", ylabel=\"Angle (rad)\", title=\"Angle Measurements\")\n",
    "plot!(time_values, θ_values, label=\"𝜃(t)\")\n",
    "plot!(time_values, φdot_values, label=\"𝜑dot(t)\", linestyle=:dash)\n",
    "plot!(time_values, θdot_values, label=\"𝜃dot(t)\", linestyle=:dash)"
   ]
  },
  {
   "cell_type": "markdown",
   "id": "68ee4bb0",
   "metadata": {},
   "source": [
    "If we want to control the pendulum, we need access to estimates of $\\dot{\\varphi}$ and $\\dot{\\theta}$ on-the-fly. To get this, we can store the latest values read using `read(furuta.base_angle)` and `read(furuta.arm_angle)` and the corresponding time stamps into variables."
   ]
  },
  {
   "cell_type": "markdown",
   "id": "243ce08a",
   "metadata": {},
   "source": [
    "Q: Write a function `measure(furuta, prev_state, h)` that returns the state as a tuple `(φ,φdot,θ,θdot)`, where the derivatives are finite difference approximations. The `furuta` is used for measuring the new angles, and the new angular velocities can be calculated similar to above, using the new and previous angles and the sampling time. Think about how to handle the first call to the function."
   ]
  },
  {
   "cell_type": "code",
   "execution_count": null,
   "id": "dd32b1e2",
   "metadata": {},
   "outputs": [],
   "source": [
    "#A:\n",
    "using Plots\n",
    "\n",
    "# Constants\n",
    "h = 0.01  # Sampling time\n",
    "\n",
    "# Initialize variables\n",
    "prev_φ = read(furuta.base_angle)\n",
    "prev_θ = read(furuta.arm_angle)\n",
    "prev_time = 0.0\n",
    "\n",
    "# Initialize arrays for recording\n",
    "φ_values = Float64[]\n",
    "θ_values = Float64[]\n",
    "φdot_values = Float64[]\n",
    "θdot_values = Float64[]\n",
    "time_values = Float64[]\n",
    "\n",
    "# Function to compute finite-difference estimates of derivatives\n",
    "function measure(furuta, prev_state, h)\n",
    "    φ, θ = read(furuta.base_angle), read(furuta.arm_angle)\n",
    "    time = periodic_wait(furuta, prev_state[4], h)\n",
    "    φdot = (φ - prev_state[1]) / h  # Finite difference approximation of φdot\n",
    "    θdot = (θ - prev_state[3]) / h  # Finite difference approximation of θdot\n",
    "    return (φ, φdot, θ, θdot, time)\n",
    "end\n",
    "\n",
    "# Initial state\n",
    "state = measure(furuta, (prev_φ, 0.0, prev_θ, 0.0, prev_time), h)\n",
    "\n",
    "# Loop to record and plot\n",
    "for k = 1:round(5 / h)\n",
    "    push!(φ_values, state[1])\n",
    "    push!(θ_values, state[3])\n",
    "    push!(φdot_values, state[2])\n",
    "    push!(θdot_values, state[4])\n",
    "    push!(time_values, state[5])\n",
    "\n",
    "    state = measure(furuta, state, h)\n",
    "end\n",
    "\n",
    "# Handle the discontinuity in angles\n",
    "for i = 1:length(φ_values)\n",
    "    if abs(φ_values[i] - prev_φ) > π\n",
    "        φ_values[i] -= 2π * sign(φ_values[i] - prev_φ)\n",
    "    end\n",
    "    if abs(θ_values[i] - prev_θ) > π\n",
    "        θ_values[i] -= 2π * sign(θ_values[i] - prev_θ)\n",
    "    end\n",
    "    prev_φ = φ_values[i]\n",
    "    prev_θ = θ_values[i]\n",
    "end\n",
    "\n",
    "# Plotting\n",
    "plot(time_values, φ_values, label=\"𝜑(t)\", xlabel=\"Time (t)\", ylabel=\"Angle (rad)\", title=\"Angle Measurements\")\n",
    "plot!(time_values, θ_values, label=\"𝜃(t)\")\n",
    "plot!(time_values, φdot_values, label=\"𝜑dot(t)\", linestyle=:dash)\n",
    "plot!(time_values, θdot_values, label=\"𝜃dot(t)\", linestyle=:dash)\n"
   ]
  },
  {
   "cell_type": "markdown",
   "id": "96781830",
   "metadata": {},
   "source": [
    "We can now measure the configuration (angles) of the pendulum, and we have a very simple means of estimating the corresponding angular velocities, all built into the `measure` command. Next, we will investigate how the control signal affects the pendulum."
   ]
  },
  {
   "cell_type": "markdown",
   "id": "92351615",
   "metadata": {},
   "source": [
    "## A little bit about DC motors\n",
    "The pendulum base is actuated by a permanent magnet brushless DC motor. Such motors are found in an abundance of application. Permanent magnet DC motors have a number of magnets configured on the rotor (the part that rotates) and a number of coils configured on the stator (the stationary part). The photo below shows what they look like on the inside.\n",
    "\n",
    "![Stator coils](img/lab1-coils.jpeg)\n",
    "\n",
    "The coils and magnets are grouped in groups of 3, making the motor electrically equivalent to the circuit diagram below.\n",
    "\n",
    "![3 phase BLDC motor](img/lab1-3phase.png)\n",
    "\n",
    "The little switches are transistors, and by closing or opening them each phase of the motor can be exposed to either of the voltages $u_{\\min}$, $u_{\\max}$, or it can be left unconnected. Commutating the motor is the act of opening and closing these switches based on the relative position of the stator and the rotor. In a brushed DC motor, this is done automatically by brushes that gain and lose contact as the rotor rotates. In a brushless motor, commutation is instead done in software. This software is part of the firmware of the physical furuta pendulum unit. (Another essential part of the firmware handles communicaton with the PC, making it possible for us to issue control signals and read measurements from the device.)\n",
    "\n",
    "The role of the commutation firmware is to ensure that the right combination of switches are closed for the desired flux interactions between the permanent magnets and the magnetic field arising from running current through the phases. Typically (and indeed here) the desired flux interaction is the one that produces a driving torque, but it could also for instance be desired to commutate the motor such that the rotor is locked relative to the stator.\n",
    "\n",
    "Assuming the commutation switching is correctly handled (the firmware does it for us), the torque between the rotor and stator is proportional to the current drawn by the motor phases. A type of pulse width modulation (PWM) is used to control the phase currents. PWM is a very common technique for turning a binary control signal into an analog one by executing a periodic task where t$u=u_{\\max}$ for a fixed fraction $\\alpha$ of the period and $u=_{\\min}$ during the remainder. If the period is chosen short, it will appear as if the control signal was in fact $\\alpha u_{\\max}+(1-\\alpha)u_{\\min}$. This is for example the technique used to \"dim\" LED lights, that are turned on/off with high frequency rather than actually being dimmed.\n",
    "\n",
    "Sophisticated brushless DC motor controllers often measure the phase current and have feedback controller built into the firmware that tries to drive the phase current toward an external signal $u$. In this setting, the control signal $u$ is a torque reference, but it is often assumed that the feedback loop is fast and well-tuned and therefore that the motor torque in fact is $\\tau=u$."
   ]
  },
  {
   "cell_type": "markdown",
   "id": "7fb7513d",
   "metadata": {},
   "source": [
    "## A motor model for the Furuta pendulum\n",
    "Here we use a simpler scheme, where $u$ controls the PWM duty cycle $\\alpha$ directly. The magnitude $|u|$ determines $\\alpha$ and the sign of $u$ determines whether the conrol signal will force turning in the positive or negative direction. The commutation frequency is fixed in the firmware to 20 kHz. From a dynamical modeling perspective, this makes our motor equivalent to a regular brushed DC motor (albeit one with virtual and always optimally positioned brushes), and we can model its electric properties using the standard model of a DC motor:\n",
    "\n",
    "$$\n",
    "u=Ri + L\\frac{di}{dt}+k_v\\frac{d\\varphi}{dt},\n",
    "$$\n",
    "\n",
    "where $L$ is a constant inductance, $R$ is a constant resistance, $u$ is our PWM controlled voltage and $i$ is the associated current. The term $k_v\\dot{\\varphi}$ is known as the back-electromotive force, or back-EMF for short. The motor is also a generator (like the one in old bicycle dynamos) and as it spins, the same flux linkage that produces torque also induces a back-EMF, counteracting the driving voltage. The back-EMF is therefore proportional to $\\dot{\\varphi}$ with a motor-specific proportionality constant $k_v$, often referred to as the back-EMF constant.\n",
    "\n",
    "It follows from Maxwell's laws that the torque $\\tau=k_a i$ that the motor exerts between the stator and rotor is proportional to the electromagnetic flux density generated by the stator coils, and thus proportional to the stator current, through the motor parameter $k_a$, often referred to as the torque constant."
   ]
  },
  {
   "cell_type": "markdown",
   "id": "f1337aaa",
   "metadata": {},
   "source": [
    "Q: It is always good practice to verify that units of individual terms of the model match. For physical systems like ours, it is preferential to use the SI unit system. What are the parameters of the motor, and what are their SI units? Show that units match across the motor model equations."
   ]
  },
  {
   "cell_type": "markdown",
   "id": "7cc39c8b",
   "metadata": {},
   "source": [
    "A:\n",
    "Voltage (𝑢): The input voltage is in volts (V).\n",
    "\n",
    "Resistance (𝑅): The resistance of the motor winding is in ohms (Ω).\n",
    "\n",
    "Current (𝑖): The current passing through the motor winding is in amperes (A).\n",
    "\n",
    "Inductance (𝐿): The inductance of the motor winding is in henries (H).\n",
    "\n",
    "Angular velocity ( $\\dot{\\varphi}$): The angular velocity is in radians per second (rad/s).\n",
    "\n",
    "Back-EMF constant (𝑘𝑣): The back-EMF constant is in volts per radian per second (V/(rad/s)).\n",
    "\n",
    "Torque constant (𝑘𝑎): The torque constant is in newton-meters per ampere (N·m/A).\n",
    "\n",
    "Now, let's verify that the units match across the motor model equations:\n",
    "\n",
    "Voltage Equation:\n",
    "\n",
    "$$\n",
    "u=Ri + L\\frac{di}{dt}+k_v\\frac{d\\varphi}{dt},\n",
    "$$\n",
    "\n",
    "Units: $V = Ω * A + H * (A/s) + (V/(rad/s)) * (rad/s)$\n",
    "\n",
    "Simplifying units: $V = V + V + V$\n",
    "\n",
    "Units match on both sides of the equation, which is expected.\n",
    "\n",
    "Torque Equation ($\\tau=k_a i$):\n",
    "\n",
    "$$\n",
    "\\tau=k_a i\n",
    "$$\n",
    "Units: $N·m = (N·m/A) * A$\n",
    "\n",
    "Units match, as $N·m = N·m$"
   ]
  },
  {
   "cell_type": "markdown",
   "id": "fb419999",
   "metadata": {},
   "source": [
    "## Motor model parameter values\n",
    "In control systems lingo, system identification is another word for learning dynamic model parameters from signals (data).\n",
    "\n",
    "The signals from the motor model that are directly available to us are $u$ and $\\varphi$. We can also count in $\\dot{\\varphi}=\\omega$ as being available, through the finite difference estimate that we have introduced earlier. However, without additional instrumentation, the signals $i$ and $\\tau$ cannot be directly measurable."
   ]
  },
  {
   "cell_type": "markdown",
   "id": "127c9407",
   "metadata": {},
   "source": [
    "Q: Can you write down the transfer functions from $u$ and $\\omega$ to $\\tau$? Hint: Apply the Laplace transform to the motor model (replacing the operator $d/dt$ with the Laplace variable $s$, assuming the system starts in rest), then solve for $I$. You can write your answer by hand on a paper that you bring to the examination. Even better is if you write it directly in the notebook using LaTeX markdown. You can click on cells with equations in them to get an idea of how, and there is a lot of good LaTeX documentation online to aid you further."
   ]
  },
  {
   "cell_type": "markdown",
   "id": "77d3b6eb",
   "metadata": {},
   "source": [
    "A: "
   ]
  },
  {
   "cell_type": "markdown",
   "id": "58ad786f",
   "metadata": {},
   "source": [
    "Q: While you are at it, can you also draw a block diagram representation of the dynamics?"
   ]
  },
  {
   "cell_type": "markdown",
   "id": "43001186",
   "metadata": {},
   "source": [
    "A: (Bring the photo separately, or link to it from here)"
   ]
  },
  {
   "cell_type": "markdown",
   "id": "b32a3fb8",
   "metadata": {},
   "source": [
    "The transfer function can be written on the form\n",
    "\n",
    "$$\n",
    "\\tau=\\frac{K(u-k_v\\omega)}{sT+1},\n",
    "$$\n",
    "\n",
    "where the gain parameter $K$ and the time constant $T$ are functions of the basic motor parameters."
   ]
  },
  {
   "cell_type": "markdown",
   "id": "a90077cc",
   "metadata": {},
   "source": [
    "Q: Can you show that the transfer functions from $u$ to $\\tau$ and from $\\omega$ to $\\tau$ are asymptotically stable?"
   ]
  },
  {
   "cell_type": "markdown",
   "id": "7fe2805f",
   "metadata": {},
   "source": [
    "A:"
   ]
  },
  {
   "cell_type": "markdown",
   "id": "7ff8ef61",
   "metadata": {},
   "source": [
    "Q: The datasheet of the motor reveils that $R=0.13~\\Omega$, while $L=2\\cdot 10^{-5}$ H. How many seconds is the motor time constant $T$?"
   ]
  },
  {
   "cell_type": "markdown",
   "id": "4ac94a16",
   "metadata": {},
   "source": [
    "A: "
   ]
  },
  {
   "cell_type": "markdown",
   "id": "da89ffad",
   "metadata": {},
   "source": [
    "Q: In the upcoming labs we will treat `u` as being directly proportional to the motor torque. Under what circumstances (if any) is this a fair approximaton? Can we decrease the approximation error if we have access to $\\dot{\\varphi}$ and $k_v$? What about if we have access to measurements of the current $i$?"
   ]
  },
  {
   "cell_type": "markdown",
   "id": "73fff1a5",
   "metadata": {},
   "source": [
    "A: "
   ]
  },
  {
   "cell_type": "markdown",
   "id": "e1542ef0",
   "metadata": {},
   "source": [
    "**Make sure you have completed all cells above marked with \"A\" with either text or code, and bring this notebook to the lab examination.** If you get stuck along the way, collaborate with fellow students, search for information online, and don't hesitate to contact the instructors."
   ]
  },
  {
   "cell_type": "markdown",
   "id": "02ea395b",
   "metadata": {},
   "source": [
    "## Bonus\n",
    "Now you have all you need to measure (estimate) the state of the Furuta pendulum, and some insight into what the control signal does. Based on this, try designing a controller that moves the base from wherever it happens to be to the angle $\\varphi=\\pi/2$ rad. Use the measurement of $\\varphi$ and possibly the estimate of $\\dot{\\varphi}$ for this, and think about how to handle the discontinuiety of the angle measurement. How fast can you make the move without excessively overshooting the reference angle? How small stationary error (difference between the refernce angle and where the base ends up) can you achieve? You can use any home-made control strategy you like. If you have taken a control course previously, you may of course use an established one as well."
   ]
  },
  {
   "cell_type": "code",
   "execution_count": null,
   "id": "2762413c",
   "metadata": {},
   "outputs": [],
   "source": [
    "#A:\n",
    "using ControlSystems\n",
    "\n",
    "# Define the desired angle (𝜋/2 radians)\n",
    "desired_angle = π / 2\n",
    "\n",
    "# Create a PID controller with tuned parameters\n",
    "Kp = 1.0  # Proportional gain\n",
    "Ki = 0.1  # Integral gain\n",
    "Kd = 0.01 # Derivative gain\n",
    "controller = PID(Kp, Ki, Kd)\n",
    "\n",
    "# Initialize variables\n",
    "prev_time = 0.0\n",
    "prev_error = 0.0\n",
    "integral = 0.0\n",
    "\n",
    "# Function to apply the PID control\n",
    "function control_step(current_angle, current_time)\n",
    "    # Calculate the error\n",
    "    error = desired_angle - current_angle\n",
    "    \n",
    "    # Handle angle discontinuity\n",
    "    if abs(error) > π\n",
    "        if error > 0\n",
    "            error -= 2π\n",
    "        else\n",
    "            error += 2π\n",
    "        end\n",
    "    end\n",
    "    \n",
    "    # Calculate the control effort using PID\n",
    "    control_effort = control(controller, error, current_time - prev_time, integral)\n",
    "    \n",
    "    # Update integral term\n",
    "    integral += error * (current_time - prev_time)\n",
    "    \n",
    "    # Update variables for the next iteration\n",
    "    prev_time = current_time\n",
    "    prev_error = error\n",
    "    \n",
    "    return control_effort\n",
    "end\n",
    "\n",
    "# Simulate the control loop\n",
    "h = 0.01  # Sampling time\n",
    "simulation_time = 10.0 # Continued time\n",
    "num_steps = Int(simulation_time / h)\n",
    "\n",
    "# Initialize variables for simulation\n",
    "current_angle = 0.0\n",
    "current_time = 0.0\n",
    "\n",
    "# Arrays to store data for plotting\n",
    "time_values = Float64[]\n",
    "angle_values = Float64[]\n",
    "control_effort_values = Float64[]\n",
    "\n",
    "# Simulation loop\n",
    "for i = 1:num_steps\n",
    "    control_effort = control_step(current_angle, current_time)\n",
    "    \n",
    "    # Simulate the Furuta pendulum's response to the control effort\n",
    "    # Update current_angle and current_time accordingly (simulate dynamics)\n",
    "    # This part depends on the specifics of your system model.\n",
    "    \n",
    "    # Store data for plotting\n",
    "    push!(time_values, current_time)\n",
    "    push!(angle_values, current_angle)\n",
    "    push!(control_effort_values, control_effort)\n",
    "    \n",
    "    # Update time\n",
    "    current_time = periodic_wait(furuta, current_time, h)\n",
    "end\n",
    "\n",
    "# Plot results\n",
    "using Plots\n",
    "plot(time_values, angle_values, label=\"Angle (rad)\", xlabel=\"Time (s)\", ylabel=\"Angle\", title=\"PID Control\")\n",
    "plot!(time_values, control_effort_values, label=\"Control Effort\")"
   ]
  }
 ],
 "metadata": {
  "kernelspec": {
   "display_name": "Julia 1.9.3",
   "language": "julia",
   "name": "julia-1.9"
  },
  "language_info": {
   "file_extension": ".jl",
   "mimetype": "application/julia",
   "name": "julia",
   "version": "1.9.3"
  }
 },
 "nbformat": 4,
 "nbformat_minor": 5
}
